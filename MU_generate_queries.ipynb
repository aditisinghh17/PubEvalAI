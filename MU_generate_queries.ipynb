{
 "cells": [
  {
   "cell_type": "code",
   "execution_count": 26,
   "metadata": {},
   "outputs": [
    {
     "name": "stdout",
     "output_type": "stream",
     "text": [
      "Requirement already satisfied: openai in c:\\users\\hp\\appdata\\local\\programs\\python\\python311\\lib\\site-packages (0.28.0)\n",
      "Requirement already satisfied: requests>=2.20 in c:\\users\\hp\\appdata\\local\\programs\\python\\python311\\lib\\site-packages (from openai) (2.32.3)\n",
      "Requirement already satisfied: tqdm in c:\\users\\hp\\appdata\\local\\programs\\python\\python311\\lib\\site-packages (from openai) (4.66.5)\n",
      "Requirement already satisfied: aiohttp in c:\\users\\hp\\appdata\\local\\programs\\python\\python311\\lib\\site-packages (from openai) (3.10.3)\n",
      "Requirement already satisfied: charset-normalizer<4,>=2 in c:\\users\\hp\\appdata\\local\\programs\\python\\python311\\lib\\site-packages (from requests>=2.20->openai) (3.3.2)\n",
      "Requirement already satisfied: idna<4,>=2.5 in c:\\users\\hp\\appdata\\local\\programs\\python\\python311\\lib\\site-packages (from requests>=2.20->openai) (3.7)\n",
      "Requirement already satisfied: urllib3<3,>=1.21.1 in c:\\users\\hp\\appdata\\local\\programs\\python\\python311\\lib\\site-packages (from requests>=2.20->openai) (2.2.2)\n",
      "Requirement already satisfied: certifi>=2017.4.17 in c:\\users\\hp\\appdata\\local\\programs\\python\\python311\\lib\\site-packages (from requests>=2.20->openai) (2024.7.4)\n",
      "Requirement already satisfied: aiohappyeyeballs>=2.3.0 in c:\\users\\hp\\appdata\\local\\programs\\python\\python311\\lib\\site-packages (from aiohttp->openai) (2.3.5)\n",
      "Requirement already satisfied: aiosignal>=1.1.2 in c:\\users\\hp\\appdata\\local\\programs\\python\\python311\\lib\\site-packages (from aiohttp->openai) (1.3.1)\n",
      "Requirement already satisfied: attrs>=17.3.0 in c:\\users\\hp\\appdata\\local\\programs\\python\\python311\\lib\\site-packages (from aiohttp->openai) (24.2.0)\n",
      "Requirement already satisfied: frozenlist>=1.1.1 in c:\\users\\hp\\appdata\\local\\programs\\python\\python311\\lib\\site-packages (from aiohttp->openai) (1.4.1)\n",
      "Requirement already satisfied: multidict<7.0,>=4.5 in c:\\users\\hp\\appdata\\local\\programs\\python\\python311\\lib\\site-packages (from aiohttp->openai) (6.0.5)\n",
      "Requirement already satisfied: yarl<2.0,>=1.0 in c:\\users\\hp\\appdata\\local\\programs\\python\\python311\\lib\\site-packages (from aiohttp->openai) (1.9.4)\n",
      "Requirement already satisfied: colorama in c:\\users\\hp\\appdata\\roaming\\python\\python311\\site-packages (from tqdm->openai) (0.4.6)\n"
     ]
    }
   ],
   "source": [
    "! pip install openai"
   ]
  },
  {
   "cell_type": "code",
   "execution_count": 36,
   "metadata": {},
   "outputs": [
    {
     "name": "stdout",
     "output_type": "stream",
     "text": [
      "\n",
      "Generated questions unrelated to mental health:\n",
      "1. What is the largest mammal in the world?\n",
      "2. Have you ever visited a UNESCO World Heritage Site?\n",
      "3. How many planets are in our solar system?\n",
      "4. Do you enjoy cooking or baking more?\n",
      "5. Who painted the famous artwork \"Starry Night\"?\n",
      "6. What is the longest river in the world?\n",
      "7. What is the tallest mountain in the world?\n",
      "8. Are you a morning person or a night owl?\n",
      "9. In which country would you find the Great Barrier Reef?\n",
      "10. What is the chemical symbol for gold?\n",
      "11. Do you prefer sweet or savory foods?\n",
      "12. What is the largest ocean on Earth?\n",
      "13. Have you ever been scuba diving?\n",
      "14. Who wrote the novel \"Pride and Prejudice\"?\n",
      "15. What is the capital of Japan?\n",
      "16. Do you enjoy hiking in nature?\n",
      "17. What is the main ingredient in guacamole?\n",
      "18. Have you ever seen the Northern Lights?\n",
      "19. Who is known as the \"Father of Modern Physics\"?\n",
      "20. Do you prefer the beach or the mountains for a vacation?\n",
      "21. What is the currency used in Italy?\n",
      "22. Have you ever ridden in a hot air balloon?\n",
      "23. What is the process of a caterpillar turning into a butterfly called?\n",
      "24. Do you enjoy watching documentaries?\n",
      "25. Who is the Greek god of the sea?\n",
      "26. Have you ever tried rock climbing?\n",
      "27. What is the largest desert in the world?\n",
      "28. Do you prefer dogs or cats as pets?\n",
      "29. Who is the author of the Harry Potter book series?\n",
      "30. What is the primary ingredient in sushi?\n",
      "31. Have you ever been to a music festival?\n",
      "32. What is the tallest building in the world?\n",
      "33. Do you enjoy stargazing on clear nights?\n",
      "34. How many time zones are there in the world?\n",
      "35. Who painted the ceiling of the Sistine Chapel?\n",
      "36. What is the national flower of England?\n",
      "37. Have you ever gone white-water rafting?\n",
      "38. What is the official language of Brazil?\n",
      "39. Do you enjoy solving puzzles like crosswords or Sudoku?\n",
      "40. What is the largest continent by land area?\n",
      "41. Have you ever visited a volcano?\n",
      "42. Who invented the telephone?\n",
      "43. What is the most spoken language in the world?\n",
      "44. Do you prefer summer or winter activities?\n",
      "45. What is the name of the largest moon of Saturn?\n",
      "46. Have you ever tried zip-lining?\n",
      "47. What is the symbol for the element oxygen on the periodic table?\n",
      "48. Do you enjoy attending live concerts?\n",
      "49. Who is the author of \"To Kill a Mockingbird\"?\n",
      "50. What is the official language of Australia?\n"
     ]
    }
   ],
   "source": [
    "import os\n",
    "from openai import OpenAI\n",
    "\n",
    "# Initialize the OpenAI client\n",
    "client = OpenAI(api_key='')\n",
    "\n",
    "def generate_questions(domain, num_questions=50):\n",
    "    try:\n",
    "        response = client.chat.completions.create(\n",
    "            model=\"gpt-3.5-turbo\",\n",
    "            messages=[\n",
    "                {\"role\": \"system\", \"content\": f\"You are a helpful assistant that generates a mix of personal and general knowledge questions unrelated to {domain}.\"},\n",
    "                {\"role\": \"user\", \"content\": f\"\"\"Generate {num_questions} questions that are not related to {domain}. Include a mix of personal questions and general knowledge questions. Aim for about 95% general knowledge and 5% personal questions. Examples:\n",
    "                General knowledge: \"What is the capital of France?\"\n",
    "                Personal: \"What's your favorite book?\"\n",
    "                General knowledge: \"Who wrote the play Romeo and Juliet?\"\n",
    "                Personal: \"Do you prefer coffee or tea?\"\n",
    "                \n",
    "                Provide only the questions, one per line.\"\"\"}\n",
    "            ],\n",
    "            max_tokens=1500,\n",
    "            n=1,\n",
    "            temperature=0.7,\n",
    "        )\n",
    "        \n",
    "        questions = response.choices[0].message.content.strip().split('\\n')\n",
    "        return questions\n",
    "    except Exception as e:\n",
    "        print(f\"An error occurred: {e}\")\n",
    "        return []\n",
    "\n",
    "def main():\n",
    "    domain = \"mental health\"\n",
    "    questions = generate_questions(domain)\n",
    "    \n",
    "    print(f\"\\nGenerated questions unrelated to {domain}:\")\n",
    "    for i, question in enumerate(questions, 1):\n",
    "        print(f\"{question}\")\n",
    "\n",
    "if __name__ == \"__main__\":\n",
    "    main()"
   ]
  }
 ],
 "metadata": {
  "kernelspec": {
   "display_name": "Python 3",
   "language": "python",
   "name": "python3"
  },
  "language_info": {
   "codemirror_mode": {
    "name": "ipython",
    "version": 3
   },
   "file_extension": ".py",
   "mimetype": "text/x-python",
   "name": "python",
   "nbconvert_exporter": "python",
   "pygments_lexer": "ipython3",
   "version": "3.11.9"
  }
 },
 "nbformat": 4,
 "nbformat_minor": 2
}
